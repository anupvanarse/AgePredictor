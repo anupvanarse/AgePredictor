{
 "cells": [
  {
   "cell_type": "code",
   "execution_count": 2,
   "metadata": {},
   "outputs": [],
   "source": [
    "#Imports\n",
    "import os\n",
    "import random\n",
    "from pathlib import Path\n",
    "from PIL import Image\n",
    "import matplotlib.pyplot as plt\n",
    "import numpy as np"
   ]
  },
  {
   "cell_type": "code",
   "execution_count": null,
   "metadata": {},
   "outputs": [],
   "source": [
    "# Path to the dataset folder\n",
    "data_path = Path(\"../dataset\")  # Replace with the actual path\n",
    "\n",
    "classes=[]\n",
    "\n",
    "# List all subfolders (classes/age groups)\n",
    "for d in data_path.iterdir():\n",
    "    if d.is_dir():\n",
    "        classes.append(d.name)\n",
    "\n",
    "classes = sorted(classes)\n",
    "\n",
    "print(f\"Found {len(classes)} classes:\", classes)"
   ]
  },
  {
   "cell_type": "code",
   "execution_count": null,
   "metadata": {},
   "outputs": [],
   "source": [
    "# Analyze class distribution\n",
    "class_distribution = {}\n",
    "for cls in classes:\n",
    "    class_path = data_path / cls\n",
    "    num_images = len([f for f in class_path.iterdir() if f.is_file()])\n",
    "    class_distribution[cls] = num_images\n",
    "\n",
    "# Plot class distribution\n",
    "plt.figure(figsize=(10, 5))\n",
    "plt.bar(class_distribution.keys(), class_distribution.values())\n",
    "plt.xticks(rotation=90)\n",
    "plt.title(\"Class Distribution\")\n",
    "plt.xlabel(\"Class (Age)\")\n",
    "plt.ylabel(\"Number of Images\")\n",
    "plt.show()"
   ]
  },
  {
   "cell_type": "code",
   "execution_count": null,
   "metadata": {},
   "outputs": [],
   "source": [
    "# Plot random samples from each class\n",
    "num_classes = len(classes)\n",
    "samples_per_class = 2\n",
    "fig, axes = plt.subplots(num_classes, samples_per_class, figsize=(samples_per_class * 3, num_classes * 3))\n",
    "\n",
    "for i, cls in enumerate(classes):\n",
    "    class_path = data_path / cls\n",
    "    images = [f for f in class_path.iterdir() if f.is_file() and f.suffix.lower() in ['.jpg', '.jpeg', '.png', '.bmp']]\n",
    "    \n",
    "    # Select random images from the class\n",
    "    random_images = random.sample(images, min(samples_per_class, len(images)))\n",
    "\n",
    "    for j, img_path in enumerate(random_images):\n",
    "        try:\n",
    "            img = Image.open(img_path).convert(\"RGB\")\n",
    "            axes[i, j].imshow(img)\n",
    "            axes[i, j].axis(\"off\")\n",
    "            axes[i, j].set_title(f\"Class: {cls}\")\n",
    "        except Exception as e:\n",
    "            print(f\"Error loading image {img_path}: {e}\")\n",
    "\n",
    "plt.tight_layout()\n",
    "plt.show()\n"
   ]
  },
  {
   "cell_type": "code",
   "execution_count": null,
   "metadata": {},
   "outputs": [],
   "source": [
    "# Pick one image and print its dimensions\n",
    "sample_class = classes[1]  # Choose the first class as an example\n",
    "sample_class_path = data_path / sample_class\n",
    "sample_images = [f for f in sample_class_path.iterdir() if f.is_file() and f.suffix.lower() in ['.jpg', '.jpeg', '.png', '.bmp']]\n",
    "\n",
    "if sample_images:\n",
    "    sample_image_path = sample_images[240]  # Pick the first image in the class\n",
    "    try:\n",
    "        sample_image = Image.open(sample_image_path)\n",
    "        print(f\"Sample image path: {sample_image_path}\")\n",
    "        print(f\"Sample image dimensions: {sample_image.size}\")\n",
    "        # Convert the image to a numpy array for sanity check\n",
    "        img = np.array(sample_image)\n",
    "        print(f\"Type of the values in the image array: {img.dtype} and the shape of the array: {img.shape}\")\n",
    "    except Exception as e:\n",
    "        print(f\"Error loading sample image {sample_image_path}: {e}\")"
   ]
  },
  {
   "cell_type": "code",
   "execution_count": null,
   "metadata": {},
   "outputs": [],
   "source": [
    "#Dataset Size\n",
    "total_size = 0\n",
    "total_files = 0\n",
    "for cls in classes:\n",
    "    class_path = data_path / cls\n",
    "    images = [f for f in class_path.iterdir() if f.is_file()]\n",
    "    total_files += len(images)\n",
    "print(f\"Total files: {total_files}\")"
   ]
  },
  {
   "cell_type": "code",
   "execution_count": 44,
   "metadata": {},
   "outputs": [],
   "source": [
    "import fiftyone as fo\n",
    "import fiftyone.zoo as foz"
   ]
  },
  {
   "cell_type": "code",
   "execution_count": null,
   "metadata": {},
   "outputs": [],
   "source": [
    "# Create a FiftyOne dataset\n",
    "dataset = fo.Dataset.from_dir(\n",
    "    dataset_type=fo.types.ImageClassificationDirectoryTree,\n",
    "    dataset_dir=str(data_path),\n",
    ")"
   ]
  },
  {
   "cell_type": "code",
   "execution_count": null,
   "metadata": {},
   "outputs": [],
   "source": [
    "# Print dataset info\n",
    "print(dataset)\n",
    "# Visualize the dataset in FiftyOne App\n",
    "session = fo.launch_app(dataset)"
   ]
  }
 ],
 "metadata": {
  "kernelspec": {
   "display_name": "pytorch",
   "language": "python",
   "name": "python3"
  },
  "language_info": {
   "codemirror_mode": {
    "name": "ipython",
    "version": 3
   },
   "file_extension": ".py",
   "mimetype": "text/x-python",
   "name": "python",
   "nbconvert_exporter": "python",
   "pygments_lexer": "ipython3",
   "version": "3.12.4"
  }
 },
 "nbformat": 4,
 "nbformat_minor": 2
}
